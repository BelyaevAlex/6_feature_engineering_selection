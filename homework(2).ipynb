{
 "cells": [
  {
   "cell_type": "code",
   "execution_count": 1,
   "metadata": {},
   "outputs": [],
   "source": [
    "import numpy as np\n",
    "import pandas as pd\n",
    "import seaborn as sns\n",
    "import matplotlib.pyplot as plt\n",
    "\n",
    "from sklearn.impute import SimpleImputer\n",
    "from sklearn.preprocessing import StandardScaler, MinMaxScaler, OrdinalEncoder, OneHotEncoder\n",
    "from sklearn.decomposition import PCA\n",
    "\n",
    "from sklearn.feature_selection import VarianceThreshold, SelectFromModel, RFECV, SequentialFeatureSelector\n",
    "\n",
    "from sklearn.ensemble import RandomForestClassifier, RandomForestRegressor\n",
    "from sklearn.linear_model import LogisticRegression\n",
    "\n",
    "from sklearn.model_selection import KFold, cross_val_score, train_test_split\n",
    "from sklearn.pipeline import Pipeline, make_pipeline\n",
    "from sklearn.metrics import accuracy_score\n",
    "\n",
    "from sklearn.datasets import make_classification, load_wine, load_breast_cancer, load_diabetes, load_digits"
   ]
  },
  {
   "cell_type": "code",
   "execution_count": 2,
   "metadata": {},
   "outputs": [],
   "source": [
    "plt.style.use('seaborn-darkgrid')"
   ]
  },
  {
   "cell_type": "code",
   "execution_count": 3,
   "metadata": {},
   "outputs": [],
   "source": [
    "def plot_scatter(x, y, auto_scaled=True, title=None, clusters=None):\n",
    "    plt.figure(figsize=(4, 4))\n",
    "    plt.scatter(x, y, c=clusters, cmap='bwr')\n",
    "    \n",
    "    if not auto_scaled:\n",
    "        plt.axis('square')\n",
    "    \n",
    "    plt.grid(True)\n",
    "    plt.title(title)\n",
    "    \n",
    "    plt.show()\n",
    "    \n",
    "def return_X_y(data, target_column):\n",
    "    return data.drop(target_column, axis=1), data[target_column]"
   ]
  },
  {
   "cell_type": "code",
   "execution_count": 4,
   "metadata": {},
   "outputs": [],
   "source": [
    "wine_sklearn = load_wine(as_frame=True)\n",
    "wine_data, wine_labels = wine_sklearn['data'], wine_sklearn['target']"
   ]
  },
  {
   "cell_type": "markdown",
   "metadata": {},
   "source": [
    "# Homework"
   ]
  },
  {
   "cell_type": "markdown",
   "metadata": {},
   "source": [
    "## Exercise  1 - Scaling (2 points)"
   ]
  },
  {
   "cell_type": "markdown",
   "metadata": {},
   "source": [
    "Выполните стандартизацию для набора данных вина (`wine_data`), используя только базовый python, numpy и pandas (вообще не используя `StandardScaler` и sklearn). Реализация функции (или класса), которая может получать набор данных в качестве входных данных и возвращать стандартизированный набор данных в качестве выходных данных, предпочтительна, но не обязательна.\n",
    "\n",
    "Сравните свои результаты (вывод) с `StandardScaler`.\n",
    "\n",
    "**ПРИМЕЧАНИЕ:**\n",
    "\n",
    "- 1 балл за функциональную версию, 2 балла за реализацию масштабирования как класс, совместимый с конвейером sklearn.\n",
    "- Максимум за упражнение 2 балла.\n"
   ]
  },
  {
   "cell_type": "markdown",
   "metadata": {},
   "source": [
    "### Simple version (1 point)"
   ]
  },
  {
   "cell_type": "code",
   "execution_count": 5,
   "metadata": {},
   "outputs": [],
   "source": [
    "# 1 point\n",
    "def scale(X):\n",
    "    return (X - np.mean(X)) / np.std(X)"
   ]
  },
  {
   "cell_type": "code",
   "execution_count": 6,
   "metadata": {},
   "outputs": [],
   "source": [
    "assert np.allclose(np.array(scale(wine_data)), StandardScaler().fit_transform(wine_data))"
   ]
  },
  {
   "cell_type": "markdown",
   "metadata": {},
   "source": [
    "### Pipeline Version (2 points)"
   ]
  },
  {
   "cell_type": "code",
   "execution_count": 7,
   "metadata": {},
   "outputs": [],
   "source": [
    "# 2 points\n",
    "from sklearn.base import BaseEstimator, TransformerMixin\n",
    "class CustomScaler(BaseEstimator, TransformerMixin):\n",
    "    def __init__(self, columns=None, copy=True, with_mean=True, with_std=True):\n",
    "        self.columns = columns\n",
    "        self.copy = copy\n",
    "        self.with_mean = with_mean\n",
    "        self.with_std = with_std\n",
    "\n",
    "    def fit(self, X, y=None):\n",
    "        if self.with_mean:\n",
    "            self.mean = np.mean(X)\n",
    "        else:\n",
    "            self.mean = 1\n",
    "        if self.with_std:\n",
    "            self.std = np.std(X)\n",
    "        else:\n",
    "            self.std = 1\n",
    "        return self\n",
    "\n",
    "    def transform(self, X, y=None, copy=None):\n",
    "        return (X - self.mean) / self.std"
   ]
  },
  {
   "cell_type": "code",
   "execution_count": 8,
   "metadata": {},
   "outputs": [],
   "source": [
    "assert np.allclose(CustomScaler().fit_transform(wine_data), StandardScaler().fit_transform(wine_data))"
   ]
  },
  {
   "cell_type": "markdown",
   "metadata": {},
   "source": [
    "## Exercise  2 - Visualization (3 points)"
   ]
  },
  {
   "cell_type": "markdown",
   "metadata": {},
   "source": [
    "As noted earlier, standardization/normalization of data can be crucial for some distance-based ML methods.\n",
    "\n",
    "Let’s generate some toy example of unnormalized data and visualize the importance of this process once more:"
   ]
  },
  {
   "cell_type": "code",
   "execution_count": 9,
   "metadata": {},
   "outputs": [
    {
     "data": {
      "text/plain": [
       "array([[-11.63468676,  -1.29757921],\n",
       "       [ -0.66004939,   0.67475101],\n",
       "       [-21.49633462,  -2.24288738],\n",
       "       ...,\n",
       "       [ -2.38858161,   5.71673796],\n",
       "       [  5.11264094,   5.03575232],\n",
       "       [ -7.59546544,   2.42232676]])"
      ]
     },
     "execution_count": 9,
     "metadata": {},
     "output_type": "execute_result"
    }
   ],
   "source": [
    "feature_0 = np.random.randn(1000) * 10   \n",
    "feature_1 = np.concatenate([np.random.randn(500), np.random.randn(500) + 5])\n",
    "data = np.column_stack([feature_0, feature_1])\n",
    "data "
   ]
  },
  {
   "cell_type": "code",
   "execution_count": 10,
   "metadata": {},
   "outputs": [
    {
     "data": {
      "image/png": "[encoded data removed]",
      "text/plain": [
       "<Figure size 288x288 with 1 Axes>"
      ]
     },
     "metadata": {},
     "output_type": "display_data"
    }
   ],
   "source": [
    "plot_scatter(data[:, 0], data[:, 1], auto_scaled=True, title='autoscaled')"
   ]
  },
  {
   "cell_type": "markdown",
   "metadata": {},
   "source": [
    "**ПРИМЕЧАНИЕ:** на приведенном выше графике оси масштабируются по-разному, и мы можем ясно видеть два потенциальных *класса/кластера*. На самом деле `matplotlib` выполнил `autoscaling` (которое в основном можно рассматривать как `MinMaxScaling` исходных данных) просто для лучшей визуализации.\n",
    "\n",
    "Давайте отключим эту функцию и визуализируем исходные данные на графике с одинаково масштабированными осями: "
   ]
  },
  {
   "cell_type": "code",
   "execution_count": 11,
   "metadata": {},
   "outputs": [
    {
     "data": {
      "image/png": "[encoded data removed]",
      "text/plain": [
       "<Figure size 288x288 with 1 Axes>"
      ]
     },
     "metadata": {},
     "output_type": "display_data"
    }
   ],
   "source": [
    "plot_scatter(data[:, 0], data[:, 1], auto_scaled=False , title='not autoscaled')"
   ]
  },
  {
   "cell_type": "markdown",
   "metadata": {},
   "source": [
    "Эта картина явно менее интерпретируема, но гораздо ближе к тому, «как алгоритм на основе расстояния видит исходные данные»: разделимость данных едва заметна только потому, что вариация (std) x-признака намного больше в абсолютных числах."
   ]
  },
  {
   "cell_type": "markdown",
   "metadata": {},
   "source": [
    "Выполните `StandardScaling` и `MinMaxScaling` исходных данных; визуализировать результаты для каждого случая (**используйте `plot_scatter` с `auto_scaled=False`**): "
   ]
  },
  {
   "cell_type": "markdown",
   "metadata": {},
   "source": [
    "### MinMaxScaling (0.5 point)"
   ]
  },
  {
   "cell_type": "code",
   "execution_count": 12,
   "metadata": {},
   "outputs": [
    {
     "data": {
      "image/png": "[encoded data removed]",
      "text/plain": [
       "<Figure size 288x288 with 1 Axes>"
      ]
     },
     "metadata": {},
     "output_type": "display_data"
    }
   ],
   "source": [
    "data = MinMaxScaler().fit_transform(data)\n",
    "plot_scatter(data[:, 0], data[:, 1], auto_scaled=False , title='MinMaxScaler')"
   ]
  },
  {
   "cell_type": "markdown",
   "metadata": {},
   "source": [
    "### StandardScaler (0.5 point)"
   ]
  },
  {
   "cell_type": "code",
   "execution_count": 13,
   "metadata": {},
   "outputs": [
    {
     "data": {
      "image/png": "[encoded data removed]",
      "text/plain": [
       "<Figure size 288x288 with 1 Axes>"
      ]
     },
     "metadata": {},
     "output_type": "display_data"
    }
   ],
   "source": [
    "data = StandardScaler().fit_transform(data)\n",
    "plot_scatter(data[:, 0], data[:, 1], auto_scaled=False , title='StandardScaled')"
   ]
  },
  {
   "cell_type": "markdown",
   "metadata": {},
   "source": [
    "### (Bonus) K-means (2 points)"
   ]
  },
  {
   "cell_type": "markdown",
   "metadata": {},
   "source": [
    "Проиллюстрируйте влияние масштабирования на базовый алгоритм кластеризации на основе расстояния [K-means](https://towardsdatascience.com/understanding-k-means-clustering-in-machine-learning-6a6e67336aa1), используя «данные», сгенерированные выше.\n",
    "\n",
    "**ПРИМЕЧАНИЕ:** в принципе, здесь вам не нужно понимать алгоритм K-средних, вам просто нужно:\n",
    "\n",
    "1) запустить алгоритм (при k=2, k - количество кластеров/классов) на немасштабированных данных\n",
    "\n",
    "2) запустить алгоритм (с k=2) на масштабированных данных\n",
    "\n",
    "3) результаты построения: выделите разные кластеры разными цветами.\n",
    "\n",
    "Вы можете использовать этот [вопрос] (https://stats.stackexchange.com/questions/89809/is-it-important-to-scale-data-before-clustering/89813) в качестве подсказки, но я рекомендую вам построить результаты с использованием `plot_scatter` с `equal_scaled=True`: это может помочь вам интуитивно понять причины такого влияния масштабирования. \n"
   ]
  },
  {
   "cell_type": "code",
   "execution_count": 14,
   "metadata": {
    "scrolled": false
   },
   "outputs": [
    {
     "data": {
      "image/png": "[encoded data removed]",
      "text/plain": [
       "<Figure size 288x288 with 1 Axes>"
      ]
     },
     "metadata": {},
     "output_type": "display_data"
    },
    {
     "data": {
      "image/png": "[encoded data removed]",
      "text/plain": [
       "<Figure size 288x288 with 1 Axes>"
      ]
     },
     "metadata": {},
     "output_type": "display_data"
    }
   ],
   "source": [
    "from sklearn.cluster import KMeans\n",
    "feature_0 = np.random.randn(1000) * 10   \n",
    "feature_1 = np.concatenate([np.random.randn(500), np.random.randn(500) + 5])\n",
    "data = np.column_stack([feature_0, feature_1])\n",
    "km = KMeans(2)\n",
    "data_pred = km.fit_predict(data)\n",
    "data_w = StandardScaler().fit_transform(data)\n",
    "data_w_pred = km.fit_predict(data_w)\n",
    "plot_scatter(x=data[:, 0], y=data[:, 1], clusters=data_pred, auto_scaled = False, title='not scaled')\n",
    "plot_scatter(x=data_w[:, 0], y=data_w[:, 1], clusters=data_w_pred, auto_scaled = False, title='scaled')"
   ]
  },
  {
   "cell_type": "markdown",
   "metadata": {},
   "source": [
    "## Exercise  3 - Preprocessing Pipeline (2 points)"
   ]
  },
  {
   "cell_type": "code",
   "execution_count": 15,
   "metadata": {},
   "outputs": [],
   "source": [
    "wine_train, wine_val, wine_labels_train, wine_labels_val = train_test_split(wine_data, wine_labels, \n",
    "                                                                            test_size=0.3, random_state=42)"
   ]
  },
  {
   "cell_type": "markdown",
   "metadata": {},
   "source": [
    "Обучить модель (например, `LogisticRegression(solver='liblinear', Penal='l1')` на необработанных данных `wine_train`; затем обучить ту же модель после масштабирования данных; затем добавить выбор функций (и снова обучить модель на масштабированных данных) , Для каждого эксперимента все необходимые шаги предварительной обработки (если они есть) должны быть включены в конвейер sklearn.\n",
    "\n",
    "Измерьте «точность» всех трех подходов к набору данных «wine_val». Опишите и объясните результаты."
   ]
  },
  {
   "cell_type": "code",
   "execution_count": 16,
   "metadata": {},
   "outputs": [],
   "source": [
    "def model_sca():\n",
    "    regressor = LogisticRegression(solver='liblinear', penalty='l1')\n",
    "    return Pipeline([\n",
    "        ('sca', StandardScaler()),\n",
    "        ('reg', regressor)\n",
    "    ])\n",
    "def model_f_s():\n",
    "    regressor = LogisticRegression(solver='liblinear', penalty='l1')\n",
    "    return Pipeline([\n",
    "        ('f_s', VarianceThreshold(threshold=(0.3))), \n",
    "        ('sca', StandardScaler()),\n",
    "        ('reg', regressor)\n",
    "    ])"
   ]
  },
  {
   "cell_type": "code",
   "execution_count": 17,
   "metadata": {
    "scrolled": true
   },
   "outputs": [
    {
     "name": "stdout",
     "output_type": "stream",
     "text": [
      "Модель без скалирования : test : 0.9814814814814815\n",
      "Модель без скалирования : train : 0.967741935483871\n",
      "Модель со скалированием : test : 0.9814814814814815\n",
      "Модель со скалированием : train : 1.0\n",
      "Модель со скалированием и выбором фич: test : 1.0\n",
      "Модель со скалированием и выбором фич: train : 0.967741935483871\n"
     ]
    }
   ],
   "source": [
    "from sklearn.base import BaseEstimator, TransformerMixin\n",
    "from sklearn.feature_selection import VarianceThreshold\n",
    "from sklearn.metrics import f1_score\n",
    "\n",
    "model = LogisticRegression(solver='liblinear', penalty='l1')\n",
    "print('Модель без скалирования : test :', accuracy_score(model.fit(wine_train, wine_labels_train).predict(wine_val), wine_labels_val))\n",
    "print('Модель без скалирования : train :', accuracy_score(model.fit(wine_train, wine_labels_train).predict(wine_train), wine_labels_train))\n",
    "print('Модель со скалированием : test :', accuracy_score(model_sca().fit(wine_train, wine_labels_train).predict(wine_val), wine_labels_val))\n",
    "print('Модель со скалированием : train :', accuracy_score(model_sca().fit(wine_train, wine_labels_train).predict(wine_train), wine_labels_train))\n",
    "print('Модель со скалированием и выбором фич: test :', accuracy_score(model_f_s().fit(wine_train, wine_labels_train).predict(wine_val), wine_labels_val))\n",
    "print('Модель со скалированием и выбором фич: train :', accuracy_score(model_f_s().fit(wine_train, wine_labels_train).predict(wine_train), wine_labels_train))"
   ]
  },
  {
   "cell_type": "markdown",
   "metadata": {},
   "source": [
    "## Упражнение 4 - ручная PCA (5 баллов)\n",
    "Задача состоит в том, чтобы решить PCA как задачу оптимизации без явного разложения по собственным значениям.\n",
    "В самом общем случае PCA есть минимизация ошибки восстановления проекции заданного ранга $q$\n",
    "\n",
    "$$\\min_{\\mu, \\lambda_1,\\ldots, \\lambda_n, \\mathbf{V}_q} \\sum_{i=1}^n ||x_i - \\mu - \\mathbf{V}_q \\lambda_i|| ^2$$\n",
    "\n",
    "С помощью ряда шагов, которые можно найти здесь https://stats.stackexchange.com/a/10260, эта задача превращается в\n",
    "  $$\\max_{u_i} \\sum_{i=1}^q u_i^T \\mathbf{S} u_i$$\n",
    "  где $\\mathbf{S}$ — выборочная ковариационная матрица (после стандартизации), а $u_1, \\ldots, u_q$ — $q$ — ортонормированные столбцы в $\\mathbf{V}_q$.\n",
    "  Давайте решим эту задачу оптимизации с помощью библиотеки `scipy.optimize`.\n",
    " \n",
    "  Дополнительные 2 балла даются за визуализацию результатов."
   ]
  },
  {
   "cell_type": "markdown",
   "metadata": {},
   "source": [
    "### PCA (3 points)"
   ]
  },
  {
   "cell_type": "code",
   "execution_count": 18,
   "metadata": {},
   "outputs": [],
   "source": [
    "wine_data, wine_labels = wine_sklearn['data'], wine_sklearn['target']"
   ]
  },
  {
   "cell_type": "markdown",
   "metadata": {},
   "source": [
    "Найдите ковариационную матрицу стандартизированных данных и присвойте ее S."
   ]
  },
  {
   "cell_type": "code",
   "execution_count": 236,
   "metadata": {},
   "outputs": [],
   "source": [
    "x = CustomScaler().fit_transform(wine_data).T"
   ]
  },
  {
   "cell_type": "code",
   "execution_count": 240,
   "metadata": {},
   "outputs": [],
   "source": [
    "S = (x@x.T)/(x.shape[1]-1)"
   ]
  },
  {
   "cell_type": "markdown",
   "metadata": {},
   "source": [
    "Если ваш код правильный, следующее утверждение должно быть в порядке."
   ]
  },
  {
   "cell_type": "code",
   "execution_count": 241,
   "metadata": {},
   "outputs": [],
   "source": [
    "assert np.allclose(np.linalg.norm(S), 5.787241159764733)"
   ]
  },
  {
   "cell_type": "code",
   "execution_count": 242,
   "metadata": {},
   "outputs": [
    {
     "data": {
      "text/plain": [
       "5.787241159764734"
      ]
     },
     "execution_count": 242,
     "metadata": {},
     "output_type": "execute_result"
    }
   ],
   "source": [
    "np.linalg.norm(S)"
   ]
  },
  {
   "cell_type": "code",
   "execution_count": 180,
   "metadata": {},
   "outputs": [
    {
     "data": {
      "text/html": [
       "<div>\n",
       "<style scoped>\n",
       "    .dataframe tbody tr th:only-of-type {\n",
       "        vertical-align: middle;\n",
       "    }\n",
       "\n",
       "    .dataframe tbody tr th {\n",
       "        vertical-align: top;\n",
       "    }\n",
       "\n",
       "    .dataframe thead th {\n",
       "        text-align: right;\n",
       "    }\n",
       "</style>\n",
       "<table border=\"1\" class=\"dataframe\">\n",
       "  <thead>\n",
       "    <tr style=\"text-align: right;\">\n",
       "      <th></th>\n",
       "      <th>alcohol</th>\n",
       "      <th>malic_acid</th>\n",
       "      <th>ash</th>\n",
       "      <th>alcalinity_of_ash</th>\n",
       "      <th>magnesium</th>\n",
       "      <th>total_phenols</th>\n",
       "      <th>flavanoids</th>\n",
       "      <th>nonflavanoid_phenols</th>\n",
       "      <th>proanthocyanins</th>\n",
       "      <th>color_intensity</th>\n",
       "      <th>hue</th>\n",
       "      <th>od280/od315_of_diluted_wines</th>\n",
       "      <th>proline</th>\n",
       "    </tr>\n",
       "  </thead>\n",
       "  <tbody>\n",
       "    <tr>\n",
       "      <th>alcohol</th>\n",
       "      <td>0.967525</td>\n",
       "      <td>0.078880</td>\n",
       "      <td>0.179107</td>\n",
       "      <td>-0.325260</td>\n",
       "      <td>0.240792</td>\n",
       "      <td>0.253166</td>\n",
       "      <td>0.201794</td>\n",
       "      <td>-0.166905</td>\n",
       "      <td>0.104111</td>\n",
       "      <td>0.521975</td>\n",
       "      <td>-0.095232</td>\n",
       "      <td>0.042760</td>\n",
       "      <td>0.608208</td>\n",
       "    </tr>\n",
       "    <tr>\n",
       "      <th>malic_acid</th>\n",
       "      <td>0.078880</td>\n",
       "      <td>1.001441</td>\n",
       "      <td>0.148566</td>\n",
       "      <td>0.290433</td>\n",
       "      <td>-0.067624</td>\n",
       "      <td>-0.354145</td>\n",
       "      <td>-0.429070</td>\n",
       "      <td>0.298959</td>\n",
       "      <td>-0.236375</td>\n",
       "      <td>0.241554</td>\n",
       "      <td>-0.567823</td>\n",
       "      <td>-0.381336</td>\n",
       "      <td>-0.210565</td>\n",
       "    </tr>\n",
       "    <tr>\n",
       "      <th>ash</th>\n",
       "      <td>0.179107</td>\n",
       "      <td>0.148566</td>\n",
       "      <td>0.967600</td>\n",
       "      <td>0.428379</td>\n",
       "      <td>0.256618</td>\n",
       "      <td>0.093081</td>\n",
       "      <td>0.080093</td>\n",
       "      <td>0.175292</td>\n",
       "      <td>-0.022897</td>\n",
       "      <td>0.234535</td>\n",
       "      <td>-0.098114</td>\n",
       "      <td>-0.025634</td>\n",
       "      <td>0.188152</td>\n",
       "    </tr>\n",
       "    <tr>\n",
       "      <th>alcalinity_of_ash</th>\n",
       "      <td>-0.325260</td>\n",
       "      <td>0.290433</td>\n",
       "      <td>0.428379</td>\n",
       "      <td>1.002425</td>\n",
       "      <td>-0.095890</td>\n",
       "      <td>-0.339599</td>\n",
       "      <td>-0.368941</td>\n",
       "      <td>0.368396</td>\n",
       "      <td>-0.212464</td>\n",
       "      <td>0.011792</td>\n",
       "      <td>-0.279990</td>\n",
       "      <td>-0.288902</td>\n",
       "      <td>-0.458659</td>\n",
       "    </tr>\n",
       "    <tr>\n",
       "      <th>magnesium</th>\n",
       "      <td>0.240792</td>\n",
       "      <td>-0.067624</td>\n",
       "      <td>0.256618</td>\n",
       "      <td>-0.095890</td>\n",
       "      <td>0.972462</td>\n",
       "      <td>0.180934</td>\n",
       "      <td>0.163231</td>\n",
       "      <td>-0.264801</td>\n",
       "      <td>0.206322</td>\n",
       "      <td>0.178029</td>\n",
       "      <td>0.034382</td>\n",
       "      <td>0.038889</td>\n",
       "      <td>0.360307</td>\n",
       "    </tr>\n",
       "    <tr>\n",
       "      <th>total_phenols</th>\n",
       "      <td>0.253166</td>\n",
       "      <td>-0.354145</td>\n",
       "      <td>0.093081</td>\n",
       "      <td>-0.339599</td>\n",
       "      <td>0.180934</td>\n",
       "      <td>0.960604</td>\n",
       "      <td>0.826082</td>\n",
       "      <td>-0.464371</td>\n",
       "      <td>0.576366</td>\n",
       "      <td>-0.082986</td>\n",
       "      <td>0.406736</td>\n",
       "      <td>0.666906</td>\n",
       "      <td>0.459142</td>\n",
       "    </tr>\n",
       "    <tr>\n",
       "      <th>flavanoids</th>\n",
       "      <td>0.201794</td>\n",
       "      <td>-0.429070</td>\n",
       "      <td>0.080093</td>\n",
       "      <td>-0.368941</td>\n",
       "      <td>0.163231</td>\n",
       "      <td>0.826082</td>\n",
       "      <td>0.962432</td>\n",
       "      <td>-0.551421</td>\n",
       "      <td>0.617559</td>\n",
       "      <td>-0.199315</td>\n",
       "      <td>0.517447</td>\n",
       "      <td>0.755064</td>\n",
       "      <td>0.456135</td>\n",
       "    </tr>\n",
       "    <tr>\n",
       "      <th>nonflavanoid_phenols</th>\n",
       "      <td>-0.166905</td>\n",
       "      <td>0.298959</td>\n",
       "      <td>0.175292</td>\n",
       "      <td>0.368396</td>\n",
       "      <td>-0.264801</td>\n",
       "      <td>-0.464371</td>\n",
       "      <td>-0.551421</td>\n",
       "      <td>1.010524</td>\n",
       "      <td>-0.376932</td>\n",
       "      <td>0.136167</td>\n",
       "      <td>-0.264625</td>\n",
       "      <td>-0.511353</td>\n",
       "      <td>-0.325398</td>\n",
       "    </tr>\n",
       "    <tr>\n",
       "      <th>proanthocyanins</th>\n",
       "      <td>0.104111</td>\n",
       "      <td>-0.236375</td>\n",
       "      <td>-0.022897</td>\n",
       "      <td>-0.212464</td>\n",
       "      <td>0.206322</td>\n",
       "      <td>0.576366</td>\n",
       "      <td>0.617559</td>\n",
       "      <td>-0.376932</td>\n",
       "      <td>0.967302</td>\n",
       "      <td>-0.049751</td>\n",
       "      <td>0.271948</td>\n",
       "      <td>0.489372</td>\n",
       "      <td>0.294793</td>\n",
       "    </tr>\n",
       "    <tr>\n",
       "      <th>color_intensity</th>\n",
       "      <td>0.521975</td>\n",
       "      <td>0.241554</td>\n",
       "      <td>0.234535</td>\n",
       "      <td>0.011792</td>\n",
       "      <td>0.178029</td>\n",
       "      <td>-0.082986</td>\n",
       "      <td>-0.199315</td>\n",
       "      <td>0.136167</td>\n",
       "      <td>-0.049751</td>\n",
       "      <td>0.983696</td>\n",
       "      <td>-0.537213</td>\n",
       "      <td>-0.450313</td>\n",
       "      <td>0.288674</td>\n",
       "    </tr>\n",
       "    <tr>\n",
       "      <th>hue</th>\n",
       "      <td>-0.095232</td>\n",
       "      <td>-0.567823</td>\n",
       "      <td>-0.098114</td>\n",
       "      <td>-0.279990</td>\n",
       "      <td>0.034382</td>\n",
       "      <td>0.406736</td>\n",
       "      <td>0.517447</td>\n",
       "      <td>-0.264625</td>\n",
       "      <td>0.271948</td>\n",
       "      <td>-0.537213</td>\n",
       "      <td>0.985505</td>\n",
       "      <td>0.544875</td>\n",
       "      <td>0.209662</td>\n",
       "    </tr>\n",
       "    <tr>\n",
       "      <th>od280/od315_of_diluted_wines</th>\n",
       "      <td>0.042760</td>\n",
       "      <td>-0.381336</td>\n",
       "      <td>-0.025634</td>\n",
       "      <td>-0.288902</td>\n",
       "      <td>0.038889</td>\n",
       "      <td>0.666906</td>\n",
       "      <td>0.755064</td>\n",
       "      <td>-0.511353</td>\n",
       "      <td>0.489372</td>\n",
       "      <td>-0.450313</td>\n",
       "      <td>0.544875</td>\n",
       "      <td>0.973309</td>\n",
       "      <td>0.280141</td>\n",
       "    </tr>\n",
       "    <tr>\n",
       "      <th>proline</th>\n",
       "      <td>0.608208</td>\n",
       "      <td>-0.210565</td>\n",
       "      <td>0.188152</td>\n",
       "      <td>-0.458659</td>\n",
       "      <td>0.360307</td>\n",
       "      <td>0.459142</td>\n",
       "      <td>0.456135</td>\n",
       "      <td>-0.325398</td>\n",
       "      <td>0.294793</td>\n",
       "      <td>0.288674</td>\n",
       "      <td>0.209662</td>\n",
       "      <td>0.280141</td>\n",
       "      <td>0.961451</td>\n",
       "    </tr>\n",
       "  </tbody>\n",
       "</table>\n",
       "</div>"
      ],
      "text/plain": [
       "                               alcohol  malic_acid       ash  \\\n",
       "alcohol                       0.967525    0.078880  0.179107   \n",
       "malic_acid                    0.078880    1.001441  0.148566   \n",
       "ash                           0.179107    0.148566  0.967600   \n",
       "alcalinity_of_ash            -0.325260    0.290433  0.428379   \n",
       "magnesium                     0.240792   -0.067624  0.256618   \n",
       "total_phenols                 0.253166   -0.354145  0.093081   \n",
       "flavanoids                    0.201794   -0.429070  0.080093   \n",
       "nonflavanoid_phenols         -0.166905    0.298959  0.175292   \n",
       "proanthocyanins               0.104111   -0.236375 -0.022897   \n",
       "color_intensity               0.521975    0.241554  0.234535   \n",
       "hue                          -0.095232   -0.567823 -0.098114   \n",
       "od280/od315_of_diluted_wines  0.042760   -0.381336 -0.025634   \n",
       "proline                       0.608208   -0.210565  0.188152   \n",
       "\n",
       "                              alcalinity_of_ash  magnesium  total_phenols  \\\n",
       "alcohol                               -0.325260   0.240792       0.253166   \n",
       "malic_acid                             0.290433  -0.067624      -0.354145   \n",
       "ash                                    0.428379   0.256618       0.093081   \n",
       "alcalinity_of_ash                      1.002425  -0.095890      -0.339599   \n",
       "magnesium                             -0.095890   0.972462       0.180934   \n",
       "total_phenols                         -0.339599   0.180934       0.960604   \n",
       "flavanoids                            -0.368941   0.163231       0.826082   \n",
       "nonflavanoid_phenols                   0.368396  -0.264801      -0.464371   \n",
       "proanthocyanins                       -0.212464   0.206322       0.576366   \n",
       "color_intensity                        0.011792   0.178029      -0.082986   \n",
       "hue                                   -0.279990   0.034382       0.406736   \n",
       "od280/od315_of_diluted_wines          -0.288902   0.038889       0.666906   \n",
       "proline                               -0.458659   0.360307       0.459142   \n",
       "\n",
       "                              flavanoids  nonflavanoid_phenols  \\\n",
       "alcohol                         0.201794             -0.166905   \n",
       "malic_acid                     -0.429070              0.298959   \n",
       "ash                             0.080093              0.175292   \n",
       "alcalinity_of_ash              -0.368941              0.368396   \n",
       "magnesium                       0.163231             -0.264801   \n",
       "total_phenols                   0.826082             -0.464371   \n",
       "flavanoids                      0.962432             -0.551421   \n",
       "nonflavanoid_phenols           -0.551421              1.010524   \n",
       "proanthocyanins                 0.617559             -0.376932   \n",
       "color_intensity                -0.199315              0.136167   \n",
       "hue                             0.517447             -0.264625   \n",
       "od280/od315_of_diluted_wines    0.755064             -0.511353   \n",
       "proline                         0.456135             -0.325398   \n",
       "\n",
       "                              proanthocyanins  color_intensity       hue  \\\n",
       "alcohol                              0.104111         0.521975 -0.095232   \n",
       "malic_acid                          -0.236375         0.241554 -0.567823   \n",
       "ash                                 -0.022897         0.234535 -0.098114   \n",
       "alcalinity_of_ash                   -0.212464         0.011792 -0.279990   \n",
       "magnesium                            0.206322         0.178029  0.034382   \n",
       "total_phenols                        0.576366        -0.082986  0.406736   \n",
       "flavanoids                           0.617559        -0.199315  0.517447   \n",
       "nonflavanoid_phenols                -0.376932         0.136167 -0.264625   \n",
       "proanthocyanins                      0.967302        -0.049751  0.271948   \n",
       "color_intensity                     -0.049751         0.983696 -0.537213   \n",
       "hue                                  0.271948        -0.537213  0.985505   \n",
       "od280/od315_of_diluted_wines         0.489372        -0.450313  0.544875   \n",
       "proline                              0.294793         0.288674  0.209662   \n",
       "\n",
       "                              od280/od315_of_diluted_wines   proline  \n",
       "alcohol                                           0.042760  0.608208  \n",
       "malic_acid                                       -0.381336 -0.210565  \n",
       "ash                                              -0.025634  0.188152  \n",
       "alcalinity_of_ash                                -0.288902 -0.458659  \n",
       "magnesium                                         0.038889  0.360307  \n",
       "total_phenols                                     0.666906  0.459142  \n",
       "flavanoids                                        0.755064  0.456135  \n",
       "nonflavanoid_phenols                             -0.511353 -0.325398  \n",
       "proanthocyanins                                   0.489372  0.294793  \n",
       "color_intensity                                  -0.450313  0.288674  \n",
       "hue                                               0.544875  0.209662  \n",
       "od280/od315_of_diluted_wines                      0.973309  0.280141  \n",
       "proline                                           0.280141  0.961451  "
      ]
     },
     "execution_count": 180,
     "metadata": {},
     "output_type": "execute_result"
    }
   ],
   "source": [
    "S"
   ]
  },
  {
   "cell_type": "code",
   "execution_count": 60,
   "metadata": {},
   "outputs": [],
   "source": [
    "from scipy.optimize import minimize\n",
    "\n",
    "def objective(x):\n",
    "    # your code: напишите цель проблемы (не забывайте, что scipy делает min, а нам нужно max)\n",
    "    return 1 - x.T@S@x\n",
    "    \n",
    "def norm_constraint(x): \n",
    "    # your code: Ограниченная норма x равна 1, функция должна возвращать 0, если ограничение выполняется \n",
    "    if np.linalg.norm(x) == 1:\n",
    "        return 0\n",
    "    else:\n",
    "        return 1 - x.T @ x\n",
    "    \n",
    "con1 = {'type': 'eq', 'fun': norm_constraint}\n",
    "\n",
    "x0 = np.ones(wine_data.shape[1])\n",
    "\n",
    "sol = minimize(objective, \n",
    "               x0, \n",
    "               constraints = [con1]\n",
    "              )\n",
    "x0 = sol.x"
   ]
  },
  {
   "cell_type": "markdown",
   "metadata": {},
   "source": [
    "Hurray! We have first vector! Let's do another one."
   ]
  },
  {
   "cell_type": "code",
   "execution_count": 61,
   "metadata": {},
   "outputs": [],
   "source": [
    "def orthogonality_constraint(x):\n",
    "    # your code: x should be orthogonal to x0, function should return 0 if constraint holds\n",
    "    if (x.T @ x0 == 0):\n",
    "        return 0\n",
    "    else:\n",
    "        return - x.T @ x0\n",
    "\n",
    "con2 = {'type': 'eq', 'fun': orthogonality_constraint}\n",
    "\n",
    "x1 = np.ones(wine_data.shape[1])\n",
    "\n",
    "\n",
    "sol = minimize(objective, \n",
    "               x1, \n",
    "               constraints = [con1, con2]\n",
    "              )\n",
    "\n",
    "x1 = sol.x"
   ]
  },
  {
   "cell_type": "markdown",
   "metadata": {},
   "source": [
    "If your solution is correct, the following asserts should be Ok."
   ]
  },
  {
   "cell_type": "code",
   "execution_count": 62,
   "metadata": {},
   "outputs": [],
   "source": [
    "assert np.allclose(x0@S@x0, 4.732436977583595)\n",
    "assert np.allclose(x1@S@x1, 2.5110809296451233)"
   ]
  },
  {
   "cell_type": "markdown",
   "metadata": {},
   "source": [
    "### Visualization (2 points)"
   ]
  },
  {
   "cell_type": "markdown",
   "metadata": {},
   "source": [
    "Визуализируйте точки после применения пользовательского уменьшения размеров с 2 компонентами."
   ]
  },
  {
   "cell_type": "code",
   "execution_count": 63,
   "metadata": {},
   "outputs": [],
   "source": [
    "wine_data = StandardScaler().fit_transform(wine_data)"
   ]
  },
  {
   "cell_type": "code",
   "execution_count": 64,
   "metadata": {
    "scrolled": true
   },
   "outputs": [
    {
     "data": {
      "image/png": "[encoded data removed]",
      "text/plain": [
       "<Figure size 288x288 with 1 Axes>"
      ]
     },
     "metadata": {},
     "output_type": "display_data"
    }
   ],
   "source": [
    "plot_scatter(x=wine_data @ x0, y=wine_data @ x1, clusters=wine_labels, auto_scaled = True, title='after PCA')"
   ]
  },
  {
   "cell_type": "markdown",
   "metadata": {},
   "source": [
    "## Exercise 5 - Boruta (3 points)\n",
    "\n",
    "Let us classify handwritten digits 0, 1 and 2. \n",
    "To make task not so easy the images are binarized (no shadows of gray present) as it happens with xerocopied documents.\n",
    "\n",
    "Let us also find out to which parts of an image there's no need to look in order to clasify three digits of interest."
   ]
  },
  {
   "cell_type": "code",
   "execution_count": 65,
   "metadata": {},
   "outputs": [],
   "source": [
    "X, y = load_digits(n_class=3, return_X_y=True, as_frame=True)\n",
    "X = (X>10).astype(int)"
   ]
  },
  {
   "cell_type": "code",
   "execution_count": 66,
   "metadata": {},
   "outputs": [
    {
     "data": {
      "image/png": "[encoded data removed]",
      "text/plain": [
       "<Figure size 720x288 with 3 Axes>"
      ]
     },
     "metadata": {},
     "output_type": "display_data"
    }
   ],
   "source": [
    "f, ax = plt.subplots(1,3,figsize=(10,4))\n",
    "for i in range(3):\n",
    "    ax[i].imshow(X.iloc[i].values.reshape(8,8))\n",
    "    ax[i].set_title(f\"This is digit {y[i]}.\")\n",
    "plt.suptitle(\"First three images.\")\n",
    "plt.show()"
   ]
  },
  {
   "cell_type": "markdown",
   "metadata": {},
   "source": [
    "Split data into train and test, let test size be 30% of the dataset and fix random state to 42:"
   ]
  },
  {
   "cell_type": "code",
   "execution_count": 67,
   "metadata": {},
   "outputs": [],
   "source": [
    "X_train, X_val, y_train, y_val = train_test_split(X, y, test_size=0.3, random_state=42)"
   ]
  },
  {
   "cell_type": "code",
   "execution_count": 68,
   "metadata": {},
   "outputs": [],
   "source": [
    "assert y_val.shape[0] == 162\n",
    "assert y_val.sum() == 169"
   ]
  },
  {
   "cell_type": "markdown",
   "metadata": {},
   "source": [
    "Fit a RandomForestClassifier with max_depth=13 and evaluate it's performance:"
   ]
  },
  {
   "cell_type": "code",
   "execution_count": 69,
   "metadata": {},
   "outputs": [
    {
     "name": "stdout",
     "output_type": "stream",
     "text": [
      "0.9814814814814815\n"
     ]
    }
   ],
   "source": [
    "clf = RandomForestClassifier(max_depth=13)\n",
    "\n",
    "# your code here\n",
    "\n",
    "acc = f1_score(clf.fit(X_train, y_train).predict(X_val), y_val, average='micro')\n",
    "print(acc)"
   ]
  },
  {
   "cell_type": "code",
   "execution_count": 70,
   "metadata": {},
   "outputs": [],
   "source": [
    "assert acc > 0.98"
   ]
  },
  {
   "cell_type": "markdown",
   "metadata": {},
   "source": [
    "Now we will use Boruta to find redundand pixels. If the package is not installed in your system, uncomment and run the following cell."
   ]
  },
  {
   "cell_type": "code",
   "execution_count": 71,
   "metadata": {},
   "outputs": [],
   "source": [
    "#! pip install boruta"
   ]
  },
  {
   "cell_type": "code",
   "execution_count": 72,
   "metadata": {},
   "outputs": [
    {
     "data": {
      "text/plain": [
       "BorutaPy(estimator=RandomForestClassifier(max_depth=13, n_estimators=62,\n",
       "                                          random_state=RandomState(MT19937) at 0x160ADC94A40),\n",
       "         n_estimators='auto',\n",
       "         random_state=RandomState(MT19937) at 0x160ADC94A40)"
      ]
     },
     "execution_count": 72,
     "metadata": {},
     "output_type": "execute_result"
    }
   ],
   "source": [
    "from boruta import BorutaPy\n",
    "\n",
    "feat_selector = BorutaPy(RandomForestClassifier(max_depth=13), \n",
    "                         n_estimators='auto', \n",
    "                         verbose=0, \n",
    "                         max_iter=100,\n",
    "                         random_state=42)\n",
    "\n",
    "# your code here: do run the boruta\n",
    "feat_selector.fit(np.array(X_train), np.array(y_train))"
   ]
  },
  {
   "cell_type": "markdown",
   "metadata": {},
   "source": [
    "Let us print redundant pixels as a mask. Does the result looks similar to mine (or to Among us chracters)? "
   ]
  },
  {
   "cell_type": "code",
   "execution_count": 73,
   "metadata": {},
   "outputs": [
    {
     "data": {
      "text/plain": [
       "<matplotlib.image.AxesImage at 0x160ae300970>"
      ]
     },
     "execution_count": 73,
     "metadata": {},
     "output_type": "execute_result"
    },
    {
     "data": {
      "image/png": "[encoded data removed]",
      "text/plain": [
       "<Figure size 432x288 with 1 Axes>"
      ]
     },
     "metadata": {},
     "output_type": "display_data"
    }
   ],
   "source": [
    "mask = np.array(feat_selector.support_).reshape(8,8)\n",
    "plt.imshow(mask)"
   ]
  },
  {
   "cell_type": "markdown",
   "metadata": {},
   "source": [
    "At the end let us redo  classification but only with selected features"
   ]
  },
  {
   "cell_type": "code",
   "execution_count": 77,
   "metadata": {},
   "outputs": [
    {
     "name": "stdout",
     "output_type": "stream",
     "text": [
      "0.9940984462723593\n"
     ]
    }
   ],
   "source": [
    "clf = RandomForestClassifier(max_depth=13)\n",
    "\n",
    "acc = f1_score(clf.fit(X_train.iloc[:, mask.reshape(1, mask.shape[0]*mask.shape[1])[0]], y_train)\n",
    "               .predict(X_val.iloc[:, mask.reshape(1, mask.shape[0]*mask.shape[1])[0]]),\n",
    "               y_val, average='macro')\n",
    "print(acc)"
   ]
  },
  {
   "cell_type": "code",
   "execution_count": 78,
   "metadata": {},
   "outputs": [],
   "source": [
    "assert acc > 0.99"
   ]
  },
  {
   "cell_type": "markdown",
   "metadata": {},
   "source": [
    "# Materials & References"
   ]
  },
  {
   "cell_type": "markdown",
   "metadata": {},
   "source": [
    "1. General article about feature engineering and selection (main reference):\n",
    "https://github.com/Yorko/mlcourse.ai/blob/master/jupyter_english/topic06_features_regression/topic6_feature_engineering_feature_selection.ipynb\n",
    "\n",
    "2. Feature engineering/preprocessing, using scikit-learn API (great code examples, but really brief explanation):    \n",
    "https://scikit-learn.org/stable/modules/preprocessing\n",
    "\n",
    "3. Feature scaling/normalization:     \n",
    "https://towardsdatascience.com/all-about-feature-scaling-bcc0ad75cb35\n",
    "\n",
    "4. Log Transform/power transform:    \n",
    "https://medium.com/@kyawsawhtoon/log-transformation-purpose-and-interpretation-9444b4b049c9\n",
    "\n",
    "6. Missing values preprocessing using scikit-learn API (great code examples, great explanation):    \n",
    "https://scikit-learn.org/stable/modules/impute.html\n",
    "\n",
    "7. Feature selection scikit-learn API (great code examples, great explanation):   \n",
    "https://scikit-learn.org/stable/modules/feature_selection.html\n",
    "\n",
    "8. Melbourne housing dataset source:    \n",
    "https://www.kaggle.com/anthonypino/melbourne-housing-market"
   ]
  }
 ],
 "metadata": {
  "kernelspec": {
   "display_name": "Python 3",
   "language": "python",
   "name": "python3"
  },
  "language_info": {
   "codemirror_mode": {
    "name": "ipython",
    "version": 3
   },
   "file_extension": ".py",
   "mimetype": "text/x-python",
   "name": "python",
   "nbconvert_exporter": "python",
   "pygments_lexer": "ipython3",
   "version": "3.8.8"
  },
  "toc": {
   "base_numbering": "1",
   "nav_menu": {},
   "number_sections": true,
   "sideBar": true,
   "skip_h1_title": false,
   "title_cell": "Table of Contents",
   "title_sidebar": "Contents",
   "toc_cell": false,
   "toc_position": {
    "height": "calc(100% - 180px)",
    "left": "10px",
    "top": "150px",
    "width": "165px"
   },
   "toc_section_display": true,
   "toc_window_display": true
  }
 },
 "nbformat": 4,
 "nbformat_minor": 4
}
